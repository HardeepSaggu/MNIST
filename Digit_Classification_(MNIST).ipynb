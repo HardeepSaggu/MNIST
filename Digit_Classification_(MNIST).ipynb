{
  "nbformat": 4,
  "nbformat_minor": 0,
  "metadata": {
    "colab": {
      "name": "Digit Classification (MNIST).ipynb",
      "provenance": [],
      "collapsed_sections": [],
      "authorship_tag": "ABX9TyN0abxmgThvAINDMRdVcrbX",
      "include_colab_link": true
    },
    "kernelspec": {
      "name": "python3",
      "display_name": "Python 3"
    }
  },
  "cells": [
    {
      "cell_type": "markdown",
      "metadata": {
        "id": "view-in-github",
        "colab_type": "text"
      },
      "source": [
        "<a href=\"https://colab.research.google.com/github/HardeepSaggu/MNIST/blob/master/Digit_Classification_(MNIST).ipynb\" target=\"_parent\"><img src=\"https://colab.research.google.com/assets/colab-badge.svg\" alt=\"Open In Colab\"/></a>"
      ]
    },
    {
      "cell_type": "markdown",
      "metadata": {
        "id": "wxJEybTjoPrE",
        "colab_type": "text"
      },
      "source": [
        "# **Hand Written Digit Classifier (MNIST Dataset)**"
      ]
    },
    {
      "cell_type": "markdown",
      "metadata": {
        "id": "nBJ_ny4LVjdd",
        "colab_type": "text"
      },
      "source": [
        "**Importing necessary libraries and modules**\n",
        "\n",
        "---"
      ]
    },
    {
      "cell_type": "code",
      "metadata": {
        "id": "p7Hhff2VqmjC",
        "colab_type": "code",
        "colab": {}
      },
      "source": [
        "import numpy as np\n",
        "from sklearn.datasets import fetch_openml\n",
        "from sklearn import svm\n",
        "from sklearn.model_selection import train_test_split,cross_val_score\n",
        "from sklearn.linear_model import LogisticRegression\n",
        "from sklearn.metrics import confusion_matrix,classification_report\n",
        "import matplotlib.pyplot as plt\n",
        "import warnings\n",
        "warnings.filterwarnings('ignore')\n",
        "%matplotlib inline"
      ],
      "execution_count": 0,
      "outputs": []
    },
    {
      "cell_type": "markdown",
      "metadata": {
        "id": "bS97Apmlmq5S",
        "colab_type": "text"
      },
      "source": [
        "  ---"
      ]
    },
    {
      "cell_type": "markdown",
      "metadata": {
        "id": "AQSEDQa7V0IT",
        "colab_type": "text"
      },
      "source": [
        "**Importing MNIST Digit recognition dataset which is implicitly installed in sklearn.datasets**\n",
        "\n",
        "\n",
        "---\n",
        "\n"
      ]
    },
    {
      "cell_type": "code",
      "metadata": {
        "id": "RjqkFOjBoLBy",
        "colab_type": "code",
        "colab": {}
      },
      "source": [
        "mnist = fetch_openml('mnist_784')"
      ],
      "execution_count": 0,
      "outputs": []
    },
    {
      "cell_type": "markdown",
      "metadata": {
        "id": "kh4VxzPEmxQE",
        "colab_type": "text"
      },
      "source": [
        "---"
      ]
    },
    {
      "cell_type": "markdown",
      "metadata": {
        "id": "MOvw0DxPWLdd",
        "colab_type": "text"
      },
      "source": [
        "**Checking shape (rows and columns) in our dataset**\n",
        "\n",
        "\n",
        "> Our dataset consists of 70000 rows and 784 columns\n",
        "\n",
        "\n",
        "> 784 columns indicates 28 x 28 pixel images flattened into one vector\n",
        "\n",
        "\n",
        "> Each value in the given vector corresponds to grayscale value at that point in the image\n",
        "\n",
        "\n",
        "\n",
        "\n",
        "\n"
      ]
    },
    {
      "cell_type": "code",
      "metadata": {
        "id": "E_oFplcVodUs",
        "colab_type": "code",
        "colab": {
          "base_uri": "https://localhost:8080/",
          "height": 34
        },
        "outputId": "4c394240-185d-427f-a388-681fba4d4b59"
      },
      "source": [
        "mnist.data.shape"
      ],
      "execution_count": 4,
      "outputs": [
        {
          "output_type": "execute_result",
          "data": {
            "text/plain": [
              "(70000, 784)"
            ]
          },
          "metadata": {
            "tags": []
          },
          "execution_count": 4
        }
      ]
    },
    {
      "cell_type": "markdown",
      "metadata": {
        "id": "EnwErDRomzsf",
        "colab_type": "text"
      },
      "source": [
        "---"
      ]
    },
    {
      "cell_type": "markdown",
      "metadata": {
        "id": "aaNgAng_XSuo",
        "colab_type": "text"
      },
      "source": [
        "**Splitting dataset into train and test**\n",
        "\n",
        "\n",
        "> Test size = 1/7 of 70,000 images or 10,000 images\n",
        "\n",
        "> Train size = 60,000 images\n",
        "\n",
        "---\n",
        "\n",
        "\n",
        "\n"
      ]
    },
    {
      "cell_type": "code",
      "metadata": {
        "id": "7R8af7RKrYvY",
        "colab_type": "code",
        "colab": {}
      },
      "source": [
        "train_img,test_img,train_label,test_label = train_test_split(mnist.data,mnist.target,test_size=1/7.0,random_state=0)"
      ],
      "execution_count": 0,
      "outputs": []
    },
    {
      "cell_type": "markdown",
      "metadata": {
        "id": "4U6rHoLtYHTc",
        "colab_type": "text"
      },
      "source": [
        "**Verifying the shape of our training and test data**\n",
        "\n",
        "---"
      ]
    },
    {
      "cell_type": "code",
      "metadata": {
        "id": "r_7qjVwGrmjv",
        "colab_type": "code",
        "colab": {
          "base_uri": "https://localhost:8080/",
          "height": 51
        },
        "outputId": "b896151c-545e-40fd-ae51-4f3931ff394e"
      },
      "source": [
        "print (train_img.shape)\n",
        "print (test_img.shape)"
      ],
      "execution_count": 6,
      "outputs": [
        {
          "output_type": "stream",
          "text": [
            "(60000, 784)\n",
            "(10000, 784)\n"
          ],
          "name": "stdout"
        }
      ]
    },
    {
      "cell_type": "markdown",
      "metadata": {
        "id": "vu1X0CqqzsWf",
        "colab_type": "text"
      },
      "source": [
        "**Visualizing few images to help us understand what we are dealing with**\n",
        "\n",
        "---"
      ]
    },
    {
      "cell_type": "code",
      "metadata": {
        "id": "cZUpMrHrtFxk",
        "colab_type": "code",
        "colab": {
          "base_uri": "https://localhost:8080/",
          "height": 270
        },
        "outputId": "480c6fb4-343d-4944-93a1-441d33d29102"
      },
      "source": [
        "plt.figure(figsize=(20,4))\n",
        "for i in range(5):\n",
        "  plt.subplot(1,5,i+1)\n",
        "  plt.imshow(np.reshape(train_img[i],(28,28)),cmap=plt.cm.gray)\n",
        "  plt.title(\"Label = %i\\n\" % int(train_label[i]))\n",
        "plt.show()"
      ],
      "execution_count": 22,
      "outputs": [
        {
          "output_type": "display_data",
          "data": {
            "image/png": "[encoded data removed]",
            "text/plain": [
              "<Figure size 1440x288 with 5 Axes>"
            ]
          },
          "metadata": {
            "tags": [],
            "needs_background": "light"
          }
        }
      ]
    },
    {
      "cell_type": "markdown",
      "metadata": {
        "id": "MliQzyPZ3zrv",
        "colab_type": "text"
      },
      "source": [
        "**Now we are done with processing our input data and now its time to train our model**\n",
        "\n",
        "I'll be using the following machine learning techniques to perform the classification\n",
        "\n",
        "> Logistic Regression with multi_class = 'ovr'\n",
        "\n",
        "> Logistic Regression with multi_class = 'multinomial'\n",
        "\n",
        "> Support Vector Machine\n",
        "\n",
        "---\n"
      ]
    },
    {
      "cell_type": "markdown",
      "metadata": {
        "id": "29Rb0DyTourn",
        "colab_type": "text"
      },
      "source": [
        "# **Logistic Regression (MultiNomial)**\n"
      ]
    },
    {
      "cell_type": "code",
      "metadata": {
        "id": "fB9jgcFf5T4J",
        "colab_type": "code",
        "colab": {}
      },
      "source": [
        "logit = LogisticRegression(multi_class = 'multinomial')\n",
        "logit.fit(train_img,train_label)"
      ],
      "execution_count": 0,
      "outputs": []
    },
    {
      "cell_type": "markdown",
      "metadata": {
        "id": "erFTQIsNo1Tj",
        "colab_type": "text"
      },
      "source": [
        "---"
      ]
    },
    {
      "cell_type": "markdown",
      "metadata": {
        "id": "BdQv5B-B59HA",
        "colab_type": "text"
      },
      "source": [
        "## Accuracy Metrics"
      ]
    },
    {
      "cell_type": "code",
      "metadata": {
        "id": "00guA8DC6bgh",
        "colab_type": "code",
        "colab": {}
      },
      "source": [
        "predictions = logit.predict(test_img)"
      ],
      "execution_count": 0,
      "outputs": []
    },
    {
      "cell_type": "markdown",
      "metadata": {
        "id": "mkbbcIaQpB4W",
        "colab_type": "text"
      },
      "source": [
        "> **Confusion Matrix**"
      ]
    },
    {
      "cell_type": "code",
      "metadata": {
        "id": "Em0nLiCR69Dj",
        "colab_type": "code",
        "colab": {
          "base_uri": "https://localhost:8080/",
          "height": 188
        },
        "outputId": "407e8360-ed7f-4071-ead0-1ca8704428ad"
      },
      "source": [
        "confusion_matrix(test_label,predictions)"
      ],
      "execution_count": 10,
      "outputs": [
        {
          "output_type": "execute_result",
          "data": {
            "text/plain": [
              "array([[ 968,    0,    1,    1,    2,   10,    8,    2,    4,    0],\n",
              "       [   0, 1115,    6,    2,    1,    4,    0,    4,    7,    2],\n",
              "       [   4,   12,  933,   15,   12,    1,   15,    9,   35,    4],\n",
              "       [   1,    5,   35,  892,    0,   25,    3,   12,   27,   13],\n",
              "       [   1,    2,    5,    0,  898,    1,   11,   10,    6,   28],\n",
              "       [   8,    2,    8,   31,    9,  746,   13,    5,   33,    8],\n",
              "       [   8,    3,    8,    0,   11,   17,  936,    2,    4,    0],\n",
              "       [   2,    5,   15,    4,   11,    2,    1,  980,    4,   40],\n",
              "       [   4,   20,   11,   18,    7,   28,    9,    2,  854,   10],\n",
              "       [   4,    4,    5,   10,   34,    8,    2,   32,    8,  862]])"
            ]
          },
          "metadata": {
            "tags": []
          },
          "execution_count": 10
        }
      ]
    },
    {
      "cell_type": "markdown",
      "metadata": {
        "id": "03d-GbK4pHN-",
        "colab_type": "text"
      },
      "source": [
        "> **Classification Report**"
      ]
    },
    {
      "cell_type": "code",
      "metadata": {
        "id": "Dtr7EwOh7Fpy",
        "colab_type": "code",
        "colab": {
          "base_uri": "https://localhost:8080/",
          "height": 308
        },
        "outputId": "7851f54a-82d2-4b4b-a0ee-54f7628d2658"
      },
      "source": [
        "print (classification_report(test_label,predictions))"
      ],
      "execution_count": 11,
      "outputs": [
        {
          "output_type": "stream",
          "text": [
            "              precision    recall  f1-score   support\n",
            "\n",
            "           0       0.97      0.97      0.97       996\n",
            "           1       0.95      0.98      0.97      1141\n",
            "           2       0.91      0.90      0.90      1040\n",
            "           3       0.92      0.88      0.90      1013\n",
            "           4       0.91      0.93      0.92       962\n",
            "           5       0.89      0.86      0.88       863\n",
            "           6       0.94      0.95      0.94       989\n",
            "           7       0.93      0.92      0.92      1064\n",
            "           8       0.87      0.89      0.88       963\n",
            "           9       0.89      0.89      0.89       969\n",
            "\n",
            "    accuracy                           0.92     10000\n",
            "   macro avg       0.92      0.92      0.92     10000\n",
            "weighted avg       0.92      0.92      0.92     10000\n",
            "\n"
          ],
          "name": "stdout"
        }
      ]
    },
    {
      "cell_type": "markdown",
      "metadata": {
        "id": "1jUETeO8pQzi",
        "colab_type": "text"
      },
      "source": [
        "> **Model Accuracy**"
      ]
    },
    {
      "cell_type": "code",
      "metadata": {
        "id": "pPEE9eS87mgT",
        "colab_type": "code",
        "colab": {
          "base_uri": "https://localhost:8080/",
          "height": 34
        },
        "outputId": "c3f46d53-fad2-48fc-e2c2-0e107fba7c29"
      },
      "source": [
        "logit.score(test_img,test_label)"
      ],
      "execution_count": 12,
      "outputs": [
        {
          "output_type": "execute_result",
          "data": {
            "text/plain": [
              "0.9184"
            ]
          },
          "metadata": {
            "tags": []
          },
          "execution_count": 12
        }
      ]
    },
    {
      "cell_type": "markdown",
      "metadata": {
        "id": "xKJw7jqLpXtT",
        "colab_type": "text"
      },
      "source": [
        "> **10-fold cross validation score on test data**"
      ]
    },
    {
      "cell_type": "code",
      "metadata": {
        "id": "OaDw-tunbuhC",
        "colab_type": "code",
        "colab": {
          "base_uri": "https://localhost:8080/",
          "height": 34
        },
        "outputId": "28409509-63d1-41b9-a1b9-c9859f3b2652"
      },
      "source": [
        "scores = cross_val_score(logit, test_img, test_label ,cv=10)\n",
        "print (\"Average 10-fold Score =\",scores.mean())"
      ],
      "execution_count": 34,
      "outputs": [
        {
          "output_type": "stream",
          "text": [
            "Average 10-fold Score = 0.8734\n"
          ],
          "name": "stdout"
        }
      ]
    },
    {
      "cell_type": "markdown",
      "metadata": {
        "id": "-uv7NwMnrHY2",
        "colab_type": "text"
      },
      "source": [
        "---"
      ]
    },
    {
      "cell_type": "markdown",
      "metadata": {
        "id": "Q8Zir2f9peYY",
        "colab_type": "text"
      },
      "source": [
        "# **Logistic Regression (OVR)**"
      ]
    },
    {
      "cell_type": "code",
      "metadata": {
        "id": "OFI9JrrL76g4",
        "colab_type": "code",
        "colab": {}
      },
      "source": [
        "logit2 = LogisticRegression(multi_class = 'ovr')\n",
        "logit2.fit(train_img,train_label)"
      ],
      "execution_count": 0,
      "outputs": []
    },
    {
      "cell_type": "markdown",
      "metadata": {
        "id": "Lj3tlH9drM9l",
        "colab_type": "text"
      },
      "source": [
        "---"
      ]
    },
    {
      "cell_type": "markdown",
      "metadata": {
        "id": "4LsBKY5OppYR",
        "colab_type": "text"
      },
      "source": [
        "## Accuracy Metrics"
      ]
    },
    {
      "cell_type": "code",
      "metadata": {
        "id": "rxx9f7EjbKe7",
        "colab_type": "code",
        "colab": {}
      },
      "source": [
        "predictions = logit2.predict(test_img)"
      ],
      "execution_count": 0,
      "outputs": []
    },
    {
      "cell_type": "markdown",
      "metadata": {
        "id": "JJaGKC7YpuTl",
        "colab_type": "text"
      },
      "source": [
        "> **Confusion Matrix**"
      ]
    },
    {
      "cell_type": "code",
      "metadata": {
        "id": "OnQHOF4qbSak",
        "colab_type": "code",
        "colab": {
          "base_uri": "https://localhost:8080/",
          "height": 188
        },
        "outputId": "4113673e-a791-4dda-99c2-2fb08484e244"
      },
      "source": [
        "confusion_matrix(test_label,predictions)"
      ],
      "execution_count": 26,
      "outputs": [
        {
          "output_type": "execute_result",
          "data": {
            "text/plain": [
              "array([[ 971,    0,    2,    2,    1,    5,   10,    0,    5,    0],\n",
              "       [   0, 1114,    6,    2,    1,    4,    3,    2,    8,    1],\n",
              "       [   9,   13,  912,   22,   11,    2,   14,   11,   43,    3],\n",
              "       [   4,    4,   43,  878,    0,   23,    3,   14,   27,   17],\n",
              "       [   1,    2,    5,    1,  892,    1,    9,    6,   12,   33],\n",
              "       [  10,    2,    5,   36,   11,  724,   20,    5,   40,   10],\n",
              "       [   5,    2,   10,    0,    4,   17,  941,    1,    8,    1],\n",
              "       [   5,    6,   21,    0,   14,    2,    1,  970,    7,   38],\n",
              "       [   4,   17,   10,   25,    6,   22,    6,    6,  844,   23],\n",
              "       [   3,    6,   10,   14,   37,    9,    1,   32,   10,  847]])"
            ]
          },
          "metadata": {
            "tags": []
          },
          "execution_count": 26
        }
      ]
    },
    {
      "cell_type": "markdown",
      "metadata": {
        "id": "l9EnG77vpyv1",
        "colab_type": "text"
      },
      "source": [
        "> **Classification Report**"
      ]
    },
    {
      "cell_type": "code",
      "metadata": {
        "id": "Ja8QoULybWqw",
        "colab_type": "code",
        "colab": {
          "base_uri": "https://localhost:8080/",
          "height": 308
        },
        "outputId": "9feda41e-891a-4f55-fd49-36dfbcc0b3e8"
      },
      "source": [
        "print (classification_report(test_label,predictions))"
      ],
      "execution_count": 27,
      "outputs": [
        {
          "output_type": "stream",
          "text": [
            "              precision    recall  f1-score   support\n",
            "\n",
            "           0       0.96      0.97      0.97       996\n",
            "           1       0.96      0.98      0.97      1141\n",
            "           2       0.89      0.88      0.88      1040\n",
            "           3       0.90      0.87      0.88      1013\n",
            "           4       0.91      0.93      0.92       962\n",
            "           5       0.89      0.84      0.87       863\n",
            "           6       0.93      0.95      0.94       989\n",
            "           7       0.93      0.91      0.92      1064\n",
            "           8       0.84      0.88      0.86       963\n",
            "           9       0.87      0.87      0.87       969\n",
            "\n",
            "    accuracy                           0.91     10000\n",
            "   macro avg       0.91      0.91      0.91     10000\n",
            "weighted avg       0.91      0.91      0.91     10000\n",
            "\n"
          ],
          "name": "stdout"
        }
      ]
    },
    {
      "cell_type": "markdown",
      "metadata": {
        "id": "pr1Dl8B0p5jW",
        "colab_type": "text"
      },
      "source": [
        "> **Model Accuracy**"
      ]
    },
    {
      "cell_type": "code",
      "metadata": {
        "id": "SUV6i4RibcbZ",
        "colab_type": "code",
        "colab": {
          "base_uri": "https://localhost:8080/",
          "height": 34
        },
        "outputId": "768fe50d-75e4-4e46-e5ee-4249fc334058"
      },
      "source": [
        "logit2.score(test_img,test_label)"
      ],
      "execution_count": 28,
      "outputs": [
        {
          "output_type": "execute_result",
          "data": {
            "text/plain": [
              "0.9093"
            ]
          },
          "metadata": {
            "tags": []
          },
          "execution_count": 28
        }
      ]
    },
    {
      "cell_type": "markdown",
      "metadata": {
        "id": "do4SYs2Ap-Yl",
        "colab_type": "text"
      },
      "source": [
        "> **10-fold cross validation score for test data**"
      ]
    },
    {
      "cell_type": "code",
      "metadata": {
        "id": "R1Ilz3wMbj6K",
        "colab_type": "code",
        "colab": {
          "base_uri": "https://localhost:8080/",
          "height": 34
        },
        "outputId": "81673bb1-d268-4f93-a68f-fb021f9560b8"
      },
      "source": [
        "scores = cross_val_score(logit2, test_img, test_label, cv=10)\n",
        "print (\"Average 10-fold score =\",scores.mean())"
      ],
      "execution_count": 35,
      "outputs": [
        {
          "output_type": "stream",
          "text": [
            "Average 10-fold score = 0.8595\n"
          ],
          "name": "stdout"
        }
      ]
    },
    {
      "cell_type": "markdown",
      "metadata": {
        "id": "3XNf6O79rWD-",
        "colab_type": "text"
      },
      "source": [
        "---"
      ]
    },
    {
      "cell_type": "markdown",
      "metadata": {
        "id": "6dZy6-edqJDG",
        "colab_type": "text"
      },
      "source": [
        "# **Support Vector Machine (SVM)**"
      ]
    },
    {
      "cell_type": "code",
      "metadata": {
        "id": "HlOwvADCd9k1",
        "colab_type": "code",
        "colab": {}
      },
      "source": [
        "svmodel = svm.SVC()\n",
        "svmodel.fit(train_img,train_label)"
      ],
      "execution_count": 0,
      "outputs": []
    },
    {
      "cell_type": "markdown",
      "metadata": {
        "id": "Lc3ij56brZkc",
        "colab_type": "text"
      },
      "source": [
        "---"
      ]
    },
    {
      "cell_type": "markdown",
      "metadata": {
        "id": "k39Kh2NoqSmS",
        "colab_type": "text"
      },
      "source": [
        "## Accuracy Metrics"
      ]
    },
    {
      "cell_type": "code",
      "metadata": {
        "id": "2b8RbStqfusT",
        "colab_type": "code",
        "colab": {}
      },
      "source": [
        "predictions = svmodel.predict(test_img)"
      ],
      "execution_count": 0,
      "outputs": []
    },
    {
      "cell_type": "markdown",
      "metadata": {
        "id": "dn6jzVXhqW4Y",
        "colab_type": "text"
      },
      "source": [
        "> **Confusion Matrix**"
      ]
    },
    {
      "cell_type": "code",
      "metadata": {
        "id": "KmMuJQI6gaim",
        "colab_type": "code",
        "colab": {
          "base_uri": "https://localhost:8080/",
          "height": 188
        },
        "outputId": "675d8394-0ad8-4afd-d45d-0d277961baa4"
      },
      "source": [
        "confusion_matrix(test_label,predictions)"
      ],
      "execution_count": 45,
      "outputs": [
        {
          "output_type": "execute_result",
          "data": {
            "text/plain": [
              "array([[ 988,    0,    1,    0,    0,    3,    3,    0,    1,    0],\n",
              "       [   0, 1134,    2,    0,    1,    0,    0,    2,    1,    1],\n",
              "       [   1,    0, 1020,    2,    4,    0,    2,    5,    5,    1],\n",
              "       [   0,    1,   11,  973,    0,    9,    0,    4,   13,    2],\n",
              "       [   1,    1,    1,    0,  946,    1,    1,    4,    0,    7],\n",
              "       [   0,    1,    3,    7,    1,  838,    7,    0,    5,    1],\n",
              "       [   5,    0,    0,    0,    3,    5,  974,    0,    2,    0],\n",
              "       [   1,    3,    7,    0,    9,    1,    1, 1033,    0,    9],\n",
              "       [   0,    5,    3,    5,    2,    2,    3,    0,  937,    6],\n",
              "       [   1,    1,    1,    4,   13,    4,    1,    9,    1,  934]])"
            ]
          },
          "metadata": {
            "tags": []
          },
          "execution_count": 45
        }
      ]
    },
    {
      "cell_type": "markdown",
      "metadata": {
        "id": "iIFLEW8CqbMw",
        "colab_type": "text"
      },
      "source": [
        "> **Classification Report**"
      ]
    },
    {
      "cell_type": "code",
      "metadata": {
        "id": "6tRveBUPioGq",
        "colab_type": "code",
        "colab": {
          "base_uri": "https://localhost:8080/",
          "height": 308
        },
        "outputId": "455347e0-25a4-4b79-e7db-43a2a0552402"
      },
      "source": [
        "print(classification_report(test_label,predictions))"
      ],
      "execution_count": 46,
      "outputs": [
        {
          "output_type": "stream",
          "text": [
            "              precision    recall  f1-score   support\n",
            "\n",
            "           0       0.99      0.99      0.99       996\n",
            "           1       0.99      0.99      0.99      1141\n",
            "           2       0.97      0.98      0.98      1040\n",
            "           3       0.98      0.96      0.97      1013\n",
            "           4       0.97      0.98      0.97       962\n",
            "           5       0.97      0.97      0.97       863\n",
            "           6       0.98      0.98      0.98       989\n",
            "           7       0.98      0.97      0.97      1064\n",
            "           8       0.97      0.97      0.97       963\n",
            "           9       0.97      0.96      0.97       969\n",
            "\n",
            "    accuracy                           0.98     10000\n",
            "   macro avg       0.98      0.98      0.98     10000\n",
            "weighted avg       0.98      0.98      0.98     10000\n",
            "\n"
          ],
          "name": "stdout"
        }
      ]
    },
    {
      "cell_type": "markdown",
      "metadata": {
        "id": "wKyAsY57qfWz",
        "colab_type": "text"
      },
      "source": [
        "> **Model Accuracy**"
      ]
    },
    {
      "cell_type": "code",
      "metadata": {
        "id": "2W4RHakkivAG",
        "colab_type": "code",
        "colab": {
          "base_uri": "https://localhost:8080/",
          "height": 34
        },
        "outputId": "9fe33121-4fe2-4b35-cad6-70e16211347b"
      },
      "source": [
        "svmodel.score(test_img,test_label)"
      ],
      "execution_count": 47,
      "outputs": [
        {
          "output_type": "execute_result",
          "data": {
            "text/plain": [
              "0.9777"
            ]
          },
          "metadata": {
            "tags": []
          },
          "execution_count": 47
        }
      ]
    },
    {
      "cell_type": "code",
      "metadata": {
        "id": "YmA7FFC_r0Ea",
        "colab_type": "code",
        "colab": {
          "base_uri": "https://localhost:8080/",
          "height": 34
        },
        "outputId": "1e7224f1-1788-4a0b-e05a-144200f53bfc"
      },
      "source": [
        "scores = cross_val_score(svmodel, test_img, test_label, cv=10)\n",
        "print (\"Average 10-fold score =\",scores.mean())"
      ],
      "execution_count": 48,
      "outputs": [
        {
          "output_type": "stream",
          "text": [
            "Average 10-fold score = 0.959\n"
          ],
          "name": "stdout"
        }
      ]
    },
    {
      "cell_type": "markdown",
      "metadata": {
        "id": "0ByntvN5re3I",
        "colab_type": "text"
      },
      "source": [
        "---"
      ]
    },
    {
      "cell_type": "markdown",
      "metadata": {
        "id": "pmDbVKa5tkTg",
        "colab_type": "text"
      },
      "source": [
        "# **Conclusion**\n",
        "\n",
        "We can conclude that out of the three models used, support vector machine was best among them. But still there were some missclassified images. Let's have a glimpse of them."
      ]
    },
    {
      "cell_type": "code",
      "metadata": {
        "id": "_UB_U4Zrt2lr",
        "colab_type": "code",
        "colab": {
          "base_uri": "https://localhost:8080/",
          "height": 285
        },
        "outputId": "c4ccff54-270b-4596-dacb-48d38efc07b3"
      },
      "source": [
        "plt.figure(figsize = (20,4))\n",
        "count=1\n",
        "for i in range(len(predictions)):\n",
        "  if (test_label[i]!=predictions[i]):\n",
        "    plt.subplot(1,5,count)\n",
        "    plt.imshow(np.reshape(test_img[i],(28,28)), cmap=plt.cm.gray)\n",
        "    plt.title(\"Actual Label %i\\n Predicted Label %i\\n\"%(int(test_label[i]),int(predictions[i])))\n",
        "    count+=1\n",
        "    if (count==6):\n",
        "      break\n",
        "plt.show()"
      ],
      "execution_count": 66,
      "outputs": [
        {
          "output_type": "display_data",
          "data": {
            "image/png": "[encoded data removed]",
            "text/plain": [
              "<Figure size 1440x288 with 5 Axes>"
            ]
          },
          "metadata": {
            "tags": [],
            "needs_background": "light"
          }
        }
      ]
    },
    {
      "cell_type": "code",
      "metadata": {
        "id": "r3rL-jw2u-Vh",
        "colab_type": "code",
        "colab": {}
      },
      "source": [
        ""
      ],
      "execution_count": 0,
      "outputs": []
    },
    {
      "cell_type": "markdown",
      "metadata": {
        "id": "s_aCNXx4xLmc",
        "colab_type": "text"
      },
      "source": [
        "------"
      ]
    },
    {
      "cell_type": "markdown",
      "metadata": {
        "id": "eY3yWYorxQLk",
        "colab_type": "text"
      },
      "source": [
        "---"
      ]
    }
  ]
}